{
 "cells": [
  {
   "cell_type": "code",
   "execution_count": 2,
   "metadata": {},
   "outputs": [],
   "source": [
    "import pandas as pd\n",
    "import seaborn as sns\n",
    "import matplotlib.pyplot as plt"
   ]
  },
  {
   "cell_type": "code",
   "execution_count": 3,
   "metadata": {},
   "outputs": [],
   "source": [
    "reviews = pd.read_csv('output/business_review.csv',encoding = \"ISO-8859-1\",index_col=0)"
   ]
  },
  {
   "cell_type": "code",
   "execution_count": 13,
   "metadata": {},
   "outputs": [
    {
     "data": {
      "text/html": [
       "<div>\n",
       "<style scoped>\n",
       "    .dataframe tbody tr th:only-of-type {\n",
       "        vertical-align: middle;\n",
       "    }\n",
       "\n",
       "    .dataframe tbody tr th {\n",
       "        vertical-align: top;\n",
       "    }\n",
       "\n",
       "    .dataframe thead th {\n",
       "        text-align: right;\n",
       "    }\n",
       "</style>\n",
       "<table border=\"1\" class=\"dataframe\">\n",
       "  <thead>\n",
       "    <tr style=\"text-align: right;\">\n",
       "      <th></th>\n",
       "      <th>review_id</th>\n",
       "      <th>user_id</th>\n",
       "      <th>business_id</th>\n",
       "      <th>stars</th>\n",
       "      <th>name</th>\n",
       "      <th>restuarant_stars</th>\n",
       "      <th>review_count</th>\n",
       "      <th>attributes</th>\n",
       "      <th>categories</th>\n",
       "      <th>city</th>\n",
       "    </tr>\n",
       "  </thead>\n",
       "  <tbody>\n",
       "    <tr>\n",
       "      <th>0</th>\n",
       "      <td>3bMgLXMLzm89C_0mkbIFOA</td>\n",
       "      <td>j9hC9EmCsS2S2ZtbsK-l0g</td>\n",
       "      <td>5Q4Gw1pyZnG8IlFNozxIlw</td>\n",
       "      <td>2</td>\n",
       "      <td>Native New Yorker Restaurant</td>\n",
       "      <td>3.0</td>\n",
       "      <td>22</td>\n",
       "      <td>{'RestaurantsTakeOut': 'True', 'Ambience': \"{'...</td>\n",
       "      <td>Restaurants</td>\n",
       "      <td>Gilbert</td>\n",
       "    </tr>\n",
       "    <tr>\n",
       "      <th>1</th>\n",
       "      <td>slhog3p6YaoVEej3USo2Iw</td>\n",
       "      <td>IJ1wbXUh_B5Yn6U1YWHy4g</td>\n",
       "      <td>5Q4Gw1pyZnG8IlFNozxIlw</td>\n",
       "      <td>1</td>\n",
       "      <td>Native New Yorker Restaurant</td>\n",
       "      <td>3.0</td>\n",
       "      <td>22</td>\n",
       "      <td>{'RestaurantsTakeOut': 'True', 'Ambience': \"{'...</td>\n",
       "      <td>Restaurants</td>\n",
       "      <td>Gilbert</td>\n",
       "    </tr>\n",
       "    <tr>\n",
       "      <th>2</th>\n",
       "      <td>noxz5btWWJjSpbUBmregVQ</td>\n",
       "      <td>_L-JKT5OahgimFlVOo708w</td>\n",
       "      <td>5Q4Gw1pyZnG8IlFNozxIlw</td>\n",
       "      <td>4</td>\n",
       "      <td>Native New Yorker Restaurant</td>\n",
       "      <td>3.0</td>\n",
       "      <td>22</td>\n",
       "      <td>{'RestaurantsTakeOut': 'True', 'Ambience': \"{'...</td>\n",
       "      <td>Restaurants</td>\n",
       "      <td>Gilbert</td>\n",
       "    </tr>\n",
       "    <tr>\n",
       "      <th>3</th>\n",
       "      <td>gmiMXHSb6loIDxopmOWHSA</td>\n",
       "      <td>x_I7IDsFeT4vVcEBZLqr7A</td>\n",
       "      <td>5Q4Gw1pyZnG8IlFNozxIlw</td>\n",
       "      <td>5</td>\n",
       "      <td>Native New Yorker Restaurant</td>\n",
       "      <td>3.0</td>\n",
       "      <td>22</td>\n",
       "      <td>{'RestaurantsTakeOut': 'True', 'Ambience': \"{'...</td>\n",
       "      <td>Restaurants</td>\n",
       "      <td>Gilbert</td>\n",
       "    </tr>\n",
       "    <tr>\n",
       "      <th>4</th>\n",
       "      <td>xfgHmu5n7cg-uNoU2C1lZg</td>\n",
       "      <td>ceLFSre4hrzkT5VpSlt2Lg</td>\n",
       "      <td>5Q4Gw1pyZnG8IlFNozxIlw</td>\n",
       "      <td>3</td>\n",
       "      <td>Native New Yorker Restaurant</td>\n",
       "      <td>3.0</td>\n",
       "      <td>22</td>\n",
       "      <td>{'RestaurantsTakeOut': 'True', 'Ambience': \"{'...</td>\n",
       "      <td>Restaurants</td>\n",
       "      <td>Gilbert</td>\n",
       "    </tr>\n",
       "    <tr>\n",
       "      <th>...</th>\n",
       "      <td>...</td>\n",
       "      <td>...</td>\n",
       "      <td>...</td>\n",
       "      <td>...</td>\n",
       "      <td>...</td>\n",
       "      <td>...</td>\n",
       "      <td>...</td>\n",
       "      <td>...</td>\n",
       "      <td>...</td>\n",
       "      <td>...</td>\n",
       "    </tr>\n",
       "    <tr>\n",
       "      <th>725</th>\n",
       "      <td>m-nZ5_LPGvUSX9K-nZEeGQ</td>\n",
       "      <td>-MeB9ToCwv4OMhLYKleG1w</td>\n",
       "      <td>BjHZpQhu_cQ5e6gV1jnPgQ</td>\n",
       "      <td>4</td>\n",
       "      <td>Island Breeze Restaurant</td>\n",
       "      <td>4.5</td>\n",
       "      <td>3</td>\n",
       "      <td>{'Ambience': \"{'touristy': False, 'hipster': F...</td>\n",
       "      <td>Restaurants</td>\n",
       "      <td>York</td>\n",
       "    </tr>\n",
       "    <tr>\n",
       "      <th>726</th>\n",
       "      <td>MAhsgsGv15cN2ijc_YtOvQ</td>\n",
       "      <td>09rsLrbMY5oNP5vNbccfug</td>\n",
       "      <td>BjHZpQhu_cQ5e6gV1jnPgQ</td>\n",
       "      <td>5</td>\n",
       "      <td>Island Breeze Restaurant</td>\n",
       "      <td>4.5</td>\n",
       "      <td>3</td>\n",
       "      <td>{'Ambience': \"{'touristy': False, 'hipster': F...</td>\n",
       "      <td>Restaurants</td>\n",
       "      <td>York</td>\n",
       "    </tr>\n",
       "    <tr>\n",
       "      <th>727</th>\n",
       "      <td>vyWn6E2lu5kAWiwi4XV5EA</td>\n",
       "      <td>v4TYNlGGDqjXjx-Zb16Vtg</td>\n",
       "      <td>RkUJ2dBInkKtXBwU0CIffQ</td>\n",
       "      <td>5</td>\n",
       "      <td>Cafe Roma</td>\n",
       "      <td>5.0</td>\n",
       "      <td>3</td>\n",
       "      <td>NaN</td>\n",
       "      <td>Restaurants</td>\n",
       "      <td>Mesa</td>\n",
       "    </tr>\n",
       "    <tr>\n",
       "      <th>728</th>\n",
       "      <td>W9jzDUBQ6GlXE9N32BK7Gg</td>\n",
       "      <td>EgKoq8z_cOEjp07RsNU8PA</td>\n",
       "      <td>RkUJ2dBInkKtXBwU0CIffQ</td>\n",
       "      <td>5</td>\n",
       "      <td>Cafe Roma</td>\n",
       "      <td>5.0</td>\n",
       "      <td>3</td>\n",
       "      <td>NaN</td>\n",
       "      <td>Restaurants</td>\n",
       "      <td>Mesa</td>\n",
       "    </tr>\n",
       "    <tr>\n",
       "      <th>729</th>\n",
       "      <td>GKJepkoFu_CuZKLOw-ULOA</td>\n",
       "      <td>BZm4P2q0iYwO45dVCWuADg</td>\n",
       "      <td>RkUJ2dBInkKtXBwU0CIffQ</td>\n",
       "      <td>5</td>\n",
       "      <td>Cafe Roma</td>\n",
       "      <td>5.0</td>\n",
       "      <td>3</td>\n",
       "      <td>NaN</td>\n",
       "      <td>Restaurants</td>\n",
       "      <td>Mesa</td>\n",
       "    </tr>\n",
       "  </tbody>\n",
       "</table>\n",
       "<p>730 rows × 10 columns</p>\n",
       "</div>"
      ],
      "text/plain": [
       "                  review_id                 user_id             business_id  \\\n",
       "0    3bMgLXMLzm89C_0mkbIFOA  j9hC9EmCsS2S2ZtbsK-l0g  5Q4Gw1pyZnG8IlFNozxIlw   \n",
       "1    slhog3p6YaoVEej3USo2Iw  IJ1wbXUh_B5Yn6U1YWHy4g  5Q4Gw1pyZnG8IlFNozxIlw   \n",
       "2    noxz5btWWJjSpbUBmregVQ  _L-JKT5OahgimFlVOo708w  5Q4Gw1pyZnG8IlFNozxIlw   \n",
       "3    gmiMXHSb6loIDxopmOWHSA  x_I7IDsFeT4vVcEBZLqr7A  5Q4Gw1pyZnG8IlFNozxIlw   \n",
       "4    xfgHmu5n7cg-uNoU2C1lZg  ceLFSre4hrzkT5VpSlt2Lg  5Q4Gw1pyZnG8IlFNozxIlw   \n",
       "..                      ...                     ...                     ...   \n",
       "725  m-nZ5_LPGvUSX9K-nZEeGQ  -MeB9ToCwv4OMhLYKleG1w  BjHZpQhu_cQ5e6gV1jnPgQ   \n",
       "726  MAhsgsGv15cN2ijc_YtOvQ  09rsLrbMY5oNP5vNbccfug  BjHZpQhu_cQ5e6gV1jnPgQ   \n",
       "727  vyWn6E2lu5kAWiwi4XV5EA  v4TYNlGGDqjXjx-Zb16Vtg  RkUJ2dBInkKtXBwU0CIffQ   \n",
       "728  W9jzDUBQ6GlXE9N32BK7Gg  EgKoq8z_cOEjp07RsNU8PA  RkUJ2dBInkKtXBwU0CIffQ   \n",
       "729  GKJepkoFu_CuZKLOw-ULOA  BZm4P2q0iYwO45dVCWuADg  RkUJ2dBInkKtXBwU0CIffQ   \n",
       "\n",
       "     stars                          name  restuarant_stars  review_count  \\\n",
       "0        2  Native New Yorker Restaurant               3.0            22   \n",
       "1        1  Native New Yorker Restaurant               3.0            22   \n",
       "2        4  Native New Yorker Restaurant               3.0            22   \n",
       "3        5  Native New Yorker Restaurant               3.0            22   \n",
       "4        3  Native New Yorker Restaurant               3.0            22   \n",
       "..     ...                           ...               ...           ...   \n",
       "725      4      Island Breeze Restaurant               4.5             3   \n",
       "726      5      Island Breeze Restaurant               4.5             3   \n",
       "727      5                     Cafe Roma               5.0             3   \n",
       "728      5                     Cafe Roma               5.0             3   \n",
       "729      5                     Cafe Roma               5.0             3   \n",
       "\n",
       "                                            attributes   categories     city  \n",
       "0    {'RestaurantsTakeOut': 'True', 'Ambience': \"{'...  Restaurants  Gilbert  \n",
       "1    {'RestaurantsTakeOut': 'True', 'Ambience': \"{'...  Restaurants  Gilbert  \n",
       "2    {'RestaurantsTakeOut': 'True', 'Ambience': \"{'...  Restaurants  Gilbert  \n",
       "3    {'RestaurantsTakeOut': 'True', 'Ambience': \"{'...  Restaurants  Gilbert  \n",
       "4    {'RestaurantsTakeOut': 'True', 'Ambience': \"{'...  Restaurants  Gilbert  \n",
       "..                                                 ...          ...      ...  \n",
       "725  {'Ambience': \"{'touristy': False, 'hipster': F...  Restaurants     York  \n",
       "726  {'Ambience': \"{'touristy': False, 'hipster': F...  Restaurants     York  \n",
       "727                                                NaN  Restaurants     Mesa  \n",
       "728                                                NaN  Restaurants     Mesa  \n",
       "729                                                NaN  Restaurants     Mesa  \n",
       "\n",
       "[730 rows x 10 columns]"
      ]
     },
     "execution_count": 13,
     "metadata": {},
     "output_type": "execute_result"
    }
   ],
   "source": [
    "reviews"
   ]
  },
  {
   "cell_type": "markdown",
   "metadata": {},
   "source": [
    "# Most users have only a few number of reviews."
   ]
  },
  {
   "cell_type": "code",
   "execution_count": 5,
   "metadata": {},
   "outputs": [],
   "source": [
    "def num_reviews_per_var(df, group_var, count_var, max_count, title_axis_x, title_axis_y):\n",
    "    num_review_per_var = df.groupby(group_var, as_index=False).count()[[group_var, count_var]]\n",
    "    num_review_per_var.columns.values[1] = 'num_reviews_per_var'\n",
    "    reviews_per_var = num_review_per_var.groupby('num_reviews_per_var', as_index=False).count()\n",
    "    reviews_per_var.columns.values[1] = 'num_' + group_var\n",
    "    more_than_x = reviews_per_var[reviews_per_var['num_reviews_per_var']>=max_count].sum().to_frame().T\n",
    "    more_than_x['num_reviews_per_var'] = max_count\n",
    "    reviews_per_var = pd.concat([reviews_per_var[reviews_per_var['num_reviews_per_var']<max_count],\n",
    "                                 more_than_x]).reset_index(drop=True)\n",
    "    total_var = reviews_per_var['num_' + group_var].sum()\n",
    "    reviews_per_var['num_' + group_var] = 100*reviews_per_var['num_' + group_var]/total_var\n",
    "    ax = reviews_per_var.plot(x='num_reviews_per_var',y='num_' + group_var, kind='bar')    \n",
    "    ax.set_ylabel(title_axis_y)\n",
    "    ax.set_xlabel(title_axis_x)\n",
    "    ax.yaxis.set_major_formatter(mtick.FormatStrFormatter('%2.0f%%'))"
   ]
  },
  {
   "cell_type": "code",
   "execution_count": 9,
   "metadata": {},
   "outputs": [],
   "source": [
    "import matplotlib.ticker as mtick\n",
    "sns.set_style(\"whitegrid\")\n",
    "sns.set_context('paper', rc={\"font.size\":20,\"axes.titlesize\":20, \"axes.labelsize\":20,\n",
    "                             \"xtick.labelsize\":20, \"ytick.labelsize\":20})"
   ]
  },
  {
   "cell_type": "code",
   "execution_count": 10,
   "metadata": {},
   "outputs": [
    {
     "data": {
      "image/png": "[encoded data removed]",
      "text/plain": [
       "<Figure size 432x288 with 1 Axes>"
      ]
     },
     "metadata": {},
     "output_type": "display_data"
    }
   ],
   "source": [
    "num_reviews_per_var(reviews, 'user_id', 'review_id', 20, 'num_reviews', '% of users')"
   ]
  },
  {
   "cell_type": "markdown",
   "metadata": {},
   "source": [
    "## User bias: some users tend to give higher ratings than others.\n",
    "The histogram also shows differences in the average stars per user showing that some users tend to give higher ratings than others. These biases between users needs to be captured by our baseline model."
   ]
  },
  {
   "cell_type": "code",
   "execution_count": 19,
   "metadata": {},
   "outputs": [],
   "source": [
    "users = pd.read_csv('output/user.csv',encoding = \"ISO-8859-1\")\n",
    "\n",
    "user_ftres = [user_ftre for user_ftre in users.columns.tolist() if 'user_' in user_ftre]\n",
    "y_user = 'average_stars'\n",
    "user_compl_ftres = [ftre for ftre in user_ftres if 'user_compliment' in ftre]\n",
    "user_count_ftres = ['user_cool', 'user_fans', 'user_funny', 'user_review_count', 'user_useful']\n",
    "user_cat_ftres = ['user_elite_flag', 'user_friends_flag', 'yelping_since']"
   ]
  },
  {
   "cell_type": "code",
   "execution_count": 20,
   "metadata": {},
   "outputs": [
    {
     "data": {
      "image/png": "[encoded data removed]",
      "text/plain": [
       "<Figure size 504x432 with 1 Axes>"
      ]
     },
     "metadata": {},
     "output_type": "display_data"
    }
   ],
   "source": [
    "fig, ax = plt.subplots(1,1, figsize=(7, 6))\n",
    "users[y_user].plot(kind='hist', ax=ax)\n",
    "ax.set_xlabel('Users Average Stars')\n",
    "plt.show()"
   ]
  },
  {
   "cell_type": "markdown",
   "metadata": {},
   "source": [
    "## Most businesses have more than 3 reviews.\n",
    "Looking at business, the distribution of number of reviews per business is less ‘right-skewed’ and we have more restaurants with more than 3 reviews."
   ]
  },
  {
   "cell_type": "code",
   "execution_count": 21,
   "metadata": {},
   "outputs": [
    {
     "data": {
      "image/png": "[encoded data removed]",
      "text/plain": [
       "<Figure size 432x288 with 1 Axes>"
      ]
     },
     "metadata": {},
     "output_type": "display_data"
    }
   ],
   "source": [
    "num_reviews_per_var(reviews, 'business_id', 'review_id', 20, 'num_reviews', '% of business')"
   ]
  },
  {
   "cell_type": "code",
   "execution_count": 12,
   "metadata": {},
   "outputs": [
    {
     "data": {
      "text/html": [
       "<div>\n",
       "<style scoped>\n",
       "    .dataframe tbody tr th:only-of-type {\n",
       "        vertical-align: middle;\n",
       "    }\n",
       "\n",
       "    .dataframe tbody tr th {\n",
       "        vertical-align: top;\n",
       "    }\n",
       "\n",
       "    .dataframe thead th {\n",
       "        text-align: right;\n",
       "    }\n",
       "</style>\n",
       "<table border=\"1\" class=\"dataframe\">\n",
       "  <thead>\n",
       "    <tr style=\"text-align: right;\">\n",
       "      <th></th>\n",
       "      <th></th>\n",
       "      <th>review_count</th>\n",
       "    </tr>\n",
       "    <tr>\n",
       "      <th>business_id</th>\n",
       "      <th>user_id</th>\n",
       "      <th></th>\n",
       "    </tr>\n",
       "  </thead>\n",
       "  <tbody>\n",
       "    <tr>\n",
       "      <th rowspan=\"3\" valign=\"top\">-IeTLBMD3FiggvD7-VE1OQ</th>\n",
       "      <th>E73xr_twLJZemdGrXWQobQ</th>\n",
       "      <td>1</td>\n",
       "    </tr>\n",
       "    <tr>\n",
       "      <th>buhNf2dvGC4O21gll-8ieA</th>\n",
       "      <td>1</td>\n",
       "    </tr>\n",
       "    <tr>\n",
       "      <th>kEceuUC2C_C_Ta_vtYLyPA</th>\n",
       "      <td>1</td>\n",
       "    </tr>\n",
       "    <tr>\n",
       "      <th rowspan=\"2\" valign=\"top\">0K1b9ilh72dVHKtDEFF2OA</th>\n",
       "      <th>9TY2iU0mhsVL17VP0S2D4w</th>\n",
       "      <td>1</td>\n",
       "    </tr>\n",
       "    <tr>\n",
       "      <th>cUqU7UfSaamDg0L5TIJPRg</th>\n",
       "      <td>1</td>\n",
       "    </tr>\n",
       "    <tr>\n",
       "      <th>...</th>\n",
       "      <th>...</th>\n",
       "      <td>...</td>\n",
       "    </tr>\n",
       "    <tr>\n",
       "      <th rowspan=\"5\" valign=\"top\">xjTZe_vgnlnsEUGHfQiOIw</th>\n",
       "      <th>SfRlZcoYPw76lNsw7TEO7w</th>\n",
       "      <td>1</td>\n",
       "    </tr>\n",
       "    <tr>\n",
       "      <th>esn8V2dFR8On3RE075EjMA</th>\n",
       "      <td>1</td>\n",
       "    </tr>\n",
       "    <tr>\n",
       "      <th>yVMvS4Q7JTxHALm8CTwSZQ</th>\n",
       "      <td>1</td>\n",
       "    </tr>\n",
       "    <tr>\n",
       "      <th>y_Z79IzC-R-BDtqjOikmVA</th>\n",
       "      <td>1</td>\n",
       "    </tr>\n",
       "    <tr>\n",
       "      <th>z_ueJdSU51z4RTU9Fg5Ikg</th>\n",
       "      <td>1</td>\n",
       "    </tr>\n",
       "  </tbody>\n",
       "</table>\n",
       "<p>713 rows × 1 columns</p>\n",
       "</div>"
      ],
      "text/plain": [
       "                                               review_count\n",
       "business_id            user_id                             \n",
       "-IeTLBMD3FiggvD7-VE1OQ E73xr_twLJZemdGrXWQobQ             1\n",
       "                       buhNf2dvGC4O21gll-8ieA             1\n",
       "                       kEceuUC2C_C_Ta_vtYLyPA             1\n",
       "0K1b9ilh72dVHKtDEFF2OA 9TY2iU0mhsVL17VP0S2D4w             1\n",
       "                       cUqU7UfSaamDg0L5TIJPRg             1\n",
       "...                                                     ...\n",
       "xjTZe_vgnlnsEUGHfQiOIw SfRlZcoYPw76lNsw7TEO7w             1\n",
       "                       esn8V2dFR8On3RE075EjMA             1\n",
       "                       yVMvS4Q7JTxHALm8CTwSZQ             1\n",
       "                       y_Z79IzC-R-BDtqjOikmVA             1\n",
       "                       z_ueJdSU51z4RTU9Fg5Ikg             1\n",
       "\n",
       "[713 rows x 1 columns]"
      ]
     },
     "execution_count": 12,
     "metadata": {},
     "output_type": "execute_result"
    }
   ],
   "source": [
    "reviews[['business_id','user_id', 'review_count']].groupby(['business_id', 'user_id']).count()"
   ]
  }
 ],
 "metadata": {
  "kernelspec": {
   "display_name": "Python 3",
   "language": "python",
   "name": "python3"
  },
  "language_info": {
   "codemirror_mode": {
    "name": "ipython",
    "version": 3
   },
   "file_extension": ".py",
   "mimetype": "text/x-python",
   "name": "python",
   "nbconvert_exporter": "python",
   "pygments_lexer": "ipython3",
   "version": "3.7.9"
  }
 },
 "nbformat": 4,
 "nbformat_minor": 4
}
