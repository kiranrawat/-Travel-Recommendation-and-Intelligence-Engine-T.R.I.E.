{
 "cells": [
  {
   "cell_type": "code",
   "execution_count": 1,
   "metadata": {},
   "outputs": [],
   "source": [
    "import time\n",
    "import json\n",
    "import pandas as pd\n",
    "import numpy as np\n",
    "import re\n",
    "import os\n",
    "from itertools import compress\n",
    "import matplotlib.pyplot as plt\n",
    "# import seaborn as sns\n",
    "%matplotlib inline"
   ]
  },
  {
   "cell_type": "code",
   "execution_count": null,
   "metadata": {},
   "outputs": [],
   "source": [
    "df_business = pd.read_json(os.getcwd()+'/yelp_dataset/yelp_academic_dataset_business.json', lines=True)\n",
    "df_review = pd.read_json(os.getcwd()+'/yelp_dataset/yelp_academic_dataset_review.json', lines=True)\n",
    "df_user = pd.read_json(os.getcwd()+'/yelp_dataset/yelp_academic_dataset_user.json', lines=True)"
   ]
  },
  {
   "cell_type": "code",
   "execution_count": 9,
   "metadata": {},
   "outputs": [],
   "source": [
    "df_business = df_business[[\"business_id\",\"name\", \"stars\", \n",
    "                                 \"review_count\", \"attributes\", \n",
    "                                 \"categories\", \"city\", \"is_open\"]] \n",
    "\n",
    "df_business = df_business[(df_business['city'] == 'Toronto') & (df_business.categories.isin(['Restaurants']))\n",
    "                                & (df_business['review_count'] > 0) & (df_business['is_open'] == 1)]"
   ]
  },
  {
   "cell_type": "code",
   "execution_count": null,
   "metadata": {},
   "outputs": [],
   "source": [
    "def json_to_csv(directory, fileNames, createSample=False):\n",
    "    \"\"\"\n",
    "    json_to_csv: loops through specified JSON files and converts them to csv files.\n",
    "                 option to also create a sample csv, which uses np.random.seed 9001 to create a sample dataset with 10% of the observations\n",
    "    \n",
    "                 pandas has a read_json function, but returns a 'Trailing data error' when working with these specific files\n",
    "                 \n",
    "                 \n",
    "    Inputs: -directory of JSON files\n",
    "            -list of JSON filenames\n",
    "            -createSample flag\n",
    "    \"\"\"\n",
    "    \n",
    "    start = time.time()\n",
    "\n",
    "    jsonData = []\n",
    "\n",
    "    for fileName in fileNames:\n",
    "        with open(directory + fileName,  encoding=\"utf8\") as file:\n",
    "            print('{0} opened'.format(fileName))\n",
    "            for line in file:\n",
    "                #I use an rstrip here because some of the files have trailing blank spaces\n",
    "                jsonData.append(json.loads(line.rstrip()))\n",
    "        \n",
    "        df = pd.DataFrame.from_dict(jsonData)\n",
    "        \n",
    "        csvFileName = fileName[:len(fileName)-5] + '.csv'\n",
    "        \n",
    "        df.to_csv(directory + csvFileName)\n",
    "        print('{0} created'.format(csvFileName))\n",
    "        \n",
    "        \n",
    "        if createSample:\n",
    "            np.random.seed(9001)\n",
    "            msk = np.random.rand(len(df)) <= 0.1\n",
    "            sample = df[msk]\n",
    "            \n",
    "            csvSampleFileName = fileName[:len(fileName)-5] + '_sample.csv'\n",
    "            \n",
    "            sample.to_csv(directory + csvSampleFileName)\n",
    "            print('{0} created'.format(csvSampleFileName))\n",
    "        \n",
    "    print('This function took {} minutes to run'.format((time.time()-start)/60))"
   ]
  },
  {
   "cell_type": "code",
   "execution_count": null,
   "metadata": {},
   "outputs": [],
   "source": [
    "fileNameList = [ #'yelp_academic_dataset_business.json'\n",
    "#                 'yelp_academic_dataset_user.json'\n",
    "                'yelp_academic_dataset_review.json'\n",
    "               ]\n",
    "\n",
    "json_to_csv(os.getcwd()+'/yelp_dataset/', fileNameList, createSample=True)"
   ]
  },
  {
   "cell_type": "code",
   "execution_count": null,
   "metadata": {},
   "outputs": [],
   "source": []
  }
 ],
 "metadata": {
  "kernelspec": {
   "display_name": "Python 3",
   "language": "python",
   "name": "python3"
  },
  "language_info": {
   "codemirror_mode": {
    "name": "ipython",
    "version": 3
   },
   "file_extension": ".py",
   "mimetype": "text/x-python",
   "name": "python",
   "nbconvert_exporter": "python",
   "pygments_lexer": "ipython3",
   "version": "3.7.9"
  }
 },
 "nbformat": 4,
 "nbformat_minor": 4
}
