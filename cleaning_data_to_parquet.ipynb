{
 "cells": [
  {
   "cell_type": "code",
   "execution_count": 3,
   "metadata": {},
   "outputs": [],
   "source": [
    "import findspark\n",
    "findspark.init()"
   ]
  },
  {
   "cell_type": "code",
   "execution_count": 4,
   "metadata": {},
   "outputs": [],
   "source": [
    "from pyspark import Row\n",
    "from pyspark.sql import SparkSession, functions, types\n",
    "import sys\n",
    "import json\n",
    "\n",
    "spark = SparkSession.builder.appName('YELP').getOrCreate()\n",
    "sc = spark.sparkContext"
   ]
  },
  {
   "cell_type": "code",
   "execution_count": null,
   "metadata": {},
   "outputs": [],
   "source": [
    "# filtering data using spark dataframe\n",
    "# df_business = df_business.select(\"business_id\",\"name\", \"stars\", \n",
    "#                                  \"review_count\", \"attributes\", \n",
    "#                                  \"categories\", \"state\", \"city\", \"is_open\").withColumnRenamed(\"stars\", \"stars_restaurant\")\n",
    "\n",
    "# df_business = df_business.filter((df_business['city'] == 'Toronto') & (df_business.categories.contains('Restaurants'))\n",
    "#                                 & (df_business['review_count'] > 0) & (df_business['is_open'] == 1)).drop('city','is_open')"
   ]
  },
  {
   "cell_type": "code",
   "execution_count": null,
   "metadata": {},
   "outputs": [],
   "source": [
    "business_rdd = sc.textFile('yelp_dataset/yelp_academic_dataset_business.json')\\\n",
    "        .map(json.loads)\\\n",
    "        .map(lambda x: (x['business_id'],x['name'], x['city'], int(x['stars']), int(x['review_count']),\n",
    "                        int(x['is_open']), x['categories']))\\\n",
    "        .filter(lambda x: x[4] > 0)\\\n",
    "        .filter(lambda x: x[5] == 1)\\\n",
    "        .filter(lambda x: x[6] and len(x[6])>0 and 'Restaurants' in x[6]).cache()\n",
    "business_dict = business_rdd.map(lambda x: x[0]).distinct().zipWithIndex().map(lambda x: (x[0], x[1]+1)).collectAsMap()\n",
    "with open('business_dict', 'w') as f:\n",
    "        f.write(json.dumps(business_dict))\n",
    "\n",
    "business_rdd = business_rdd\\\n",
    "        .map(lambda x: (business_dict[x[0]], x[1], x[2], x[3], x[4], x[5], x[6]))\\\n",
    "        .map(lambda x: Row(business_id=x[0], name=x[1], city=x[2], stars=x[3], review_count=x[4], categories=x[6]))\n",
    "\n",
    "business_df = spark.createDataFrame(business_rdd)\n",
    "business_df.write.parquet('output/business.parquet')"
   ]
  },
  {
   "cell_type": "code",
   "execution_count": 6,
   "metadata": {},
   "outputs": [],
   "source": [
    "business_dict = json.loads(open('business_dict', 'r').read())"
   ]
  },
  {
   "cell_type": "code",
   "execution_count": 7,
   "metadata": {},
   "outputs": [],
   "source": [
    "#loading reviews\n",
    "review_rdd = sc.textFile('yelp_dataset/yelp_academic_dataset_review.json')\\\n",
    "        .map(json.loads)\\\n",
    "        .map(lambda x: (x['review_id'],x['user_id'], x['business_id'], int(x['stars'])))\\\n",
    "        .filter(lambda x: x[2] in business_dict.keys()).cache()\n",
    "user_list_in_reviews = review_rdd.map(lambda x: x[1]).distinct().collect()"
   ]
  },
  {
   "cell_type": "code",
   "execution_count": null,
   "metadata": {},
   "outputs": [],
   "source": [
    "#laoding users\n",
    "user_rdd = sc.textFile('yelp_dataset/yelp_academic_dataset_user.json') \\\n",
    "        .map(json.loads) \\\n",
    "        .map(lambda x: (x['user_id'], x['name'], int(x['review_count']))) \\\n",
    "        .filter(lambda x: x[2] > 0)\\\n",
    "        .filter(lambda x: x[0] in user_list_in_reviews).cache()\n",
    "user_dict = user_rdd.map(lambda x: x[0]).distinct().zipWithIndex().map(lambda x: (x[0], x[1] + 1)).collectAsMap()"
   ]
  },
  {
   "cell_type": "code",
   "execution_count": null,
   "metadata": {},
   "outputs": [],
   "source": [
    "with open('user_dict', 'w') as f:\n",
    "        f.write(json.dumps(user_dict))\n",
    "user_rdd = user_rdd \\\n",
    "        .map(lambda x: (user_dict[x[0]], x[1], x[2])) \\\n",
    "        .map(lambda x: Row(user_id=x[0], name=x[1], review_count=x[2]))\n",
    "user_df = spark.createDataFrame(user_rdd)\n",
    "user_df.write.parquet('output/user.parquet')"
   ]
  },
  {
   "cell_type": "code",
   "execution_count": null,
   "metadata": {},
   "outputs": [],
   "source": [
    "review_dict = review_rdd.map(lambda x: x[0]).distinct().zipWithIndex().map(lambda x: (x[0], x[1]+1)).collectAsMap()\n",
    "with open('review_dict', 'w') as f:\n",
    "        f.write(json.dumps(review_dict))\n",
    "review_rdd = review_rdd\\\n",
    "        .map(lambda x: (review_dict[x[0]] if x[0] in review_dict else 0,\n",
    "                        user_dict[x[1]] if x[1] in user_dict else 0,\n",
    "                        business_dict[x[2]] if x[2] in business_dict else 0,\n",
    "                        x[3]))\\\n",
    "        .filter(lambda x: x[0] is not 0 and x[1] is not 0 and x[2] is not 0)\\\n",
    "        .map(lambda x: Row(review_id=x[0], user_id=x[1], business_id=x[2], stars=x[3]))\n",
    "review_df = spark.createDataFrame(review_rdd)\n",
    "review_df.write.parquet('output/review.parquet')"
   ]
  },
  {
   "cell_type": "code",
   "execution_count": null,
   "metadata": {},
   "outputs": [],
   "source": [
    "print('This function took {} minutes to run'.format((time.time()-start)/60))"
   ]
  }
 ],
 "metadata": {
  "kernelspec": {
   "display_name": "Python 3",
   "language": "python",
   "name": "python3"
  },
  "language_info": {
   "codemirror_mode": {
    "name": "ipython",
    "version": 3
   },
   "file_extension": ".py",
   "mimetype": "text/x-python",
   "name": "python",
   "nbconvert_exporter": "python",
   "pygments_lexer": "ipython3",
   "version": "3.7.9"
  }
 },
 "nbformat": 4,
 "nbformat_minor": 4
}
